{
 "cells": [
  {
   "cell_type": "code",
   "execution_count": 4,
   "id": "bfa4cc2e",
   "metadata": {},
   "outputs": [
    {
     "data": {
      "text/html": [
       "<div>\n",
       "<style scoped>\n",
       "    .dataframe tbody tr th:only-of-type {\n",
       "        vertical-align: middle;\n",
       "    }\n",
       "\n",
       "    .dataframe tbody tr th {\n",
       "        vertical-align: top;\n",
       "    }\n",
       "\n",
       "    .dataframe thead th {\n",
       "        text-align: right;\n",
       "    }\n",
       "</style>\n",
       "<table border=\"1\" class=\"dataframe\">\n",
       "  <thead>\n",
       "    <tr style=\"text-align: right;\">\n",
       "      <th></th>\n",
       "      <th>Id</th>\n",
       "      <th>SepalLengthCm</th>\n",
       "      <th>SepalWidthCm</th>\n",
       "      <th>PetalLengthCm</th>\n",
       "      <th>PetalWidthCm</th>\n",
       "      <th>Species</th>\n",
       "    </tr>\n",
       "  </thead>\n",
       "  <tbody>\n",
       "    <tr>\n",
       "      <th>0</th>\n",
       "      <td>1</td>\n",
       "      <td>5.1</td>\n",
       "      <td>3.5</td>\n",
       "      <td>1.4</td>\n",
       "      <td>0.2</td>\n",
       "      <td>Iris-setosa</td>\n",
       "    </tr>\n",
       "    <tr>\n",
       "      <th>1</th>\n",
       "      <td>2</td>\n",
       "      <td>4.9</td>\n",
       "      <td>3.0</td>\n",
       "      <td>1.4</td>\n",
       "      <td>0.2</td>\n",
       "      <td>Iris-setosa</td>\n",
       "    </tr>\n",
       "    <tr>\n",
       "      <th>2</th>\n",
       "      <td>3</td>\n",
       "      <td>4.7</td>\n",
       "      <td>3.2</td>\n",
       "      <td>1.3</td>\n",
       "      <td>0.2</td>\n",
       "      <td>Iris-setosa</td>\n",
       "    </tr>\n",
       "    <tr>\n",
       "      <th>3</th>\n",
       "      <td>4</td>\n",
       "      <td>4.6</td>\n",
       "      <td>3.1</td>\n",
       "      <td>1.5</td>\n",
       "      <td>0.2</td>\n",
       "      <td>Iris-setosa</td>\n",
       "    </tr>\n",
       "    <tr>\n",
       "      <th>4</th>\n",
       "      <td>5</td>\n",
       "      <td>5.0</td>\n",
       "      <td>3.6</td>\n",
       "      <td>1.4</td>\n",
       "      <td>0.2</td>\n",
       "      <td>Iris-setosa</td>\n",
       "    </tr>\n",
       "  </tbody>\n",
       "</table>\n",
       "</div>"
      ],
      "text/plain": [
       "   Id  SepalLengthCm  SepalWidthCm  PetalLengthCm  PetalWidthCm      Species\n",
       "0   1            5.1           3.5            1.4           0.2  Iris-setosa\n",
       "1   2            4.9           3.0            1.4           0.2  Iris-setosa\n",
       "2   3            4.7           3.2            1.3           0.2  Iris-setosa\n",
       "3   4            4.6           3.1            1.5           0.2  Iris-setosa\n",
       "4   5            5.0           3.6            1.4           0.2  Iris-setosa"
      ]
     },
     "execution_count": 4,
     "metadata": {},
     "output_type": "execute_result"
    }
   ],
   "source": [
    "import torch\n",
    "import torch.nn as nn\n",
    "import torch.nn.functional as f\n",
    "import numpy as np\n",
    "import pandas as pd\n",
    "import matplotlib.pyplot as plt\n",
    "df=pd.read_csv(\"Iris.csv\")\n",
    "df.head()"
   ]
  },
  {
   "cell_type": "code",
   "execution_count": 5,
   "id": "5026a400",
   "metadata": {},
   "outputs": [
    {
     "data": {
      "text/plain": [
       "array(['Iris-setosa', 'Iris-versicolor', 'Iris-virginica'], dtype=object)"
      ]
     },
     "execution_count": 5,
     "metadata": {},
     "output_type": "execute_result"
    }
   ],
   "source": [
    "df[\"Species\"].unique()"
   ]
  },
  {
   "cell_type": "code",
   "execution_count": 6,
   "id": "c54097ae",
   "metadata": {},
   "outputs": [
    {
     "data": {
      "text/html": [
       "<div>\n",
       "<style scoped>\n",
       "    .dataframe tbody tr th:only-of-type {\n",
       "        vertical-align: middle;\n",
       "    }\n",
       "\n",
       "    .dataframe tbody tr th {\n",
       "        vertical-align: top;\n",
       "    }\n",
       "\n",
       "    .dataframe thead th {\n",
       "        text-align: right;\n",
       "    }\n",
       "</style>\n",
       "<table border=\"1\" class=\"dataframe\">\n",
       "  <thead>\n",
       "    <tr style=\"text-align: right;\">\n",
       "      <th></th>\n",
       "      <th>Id</th>\n",
       "      <th>SepalLengthCm</th>\n",
       "      <th>SepalWidthCm</th>\n",
       "      <th>PetalLengthCm</th>\n",
       "      <th>PetalWidthCm</th>\n",
       "      <th>Species</th>\n",
       "    </tr>\n",
       "  </thead>\n",
       "  <tbody>\n",
       "    <tr>\n",
       "      <th>0</th>\n",
       "      <td>1</td>\n",
       "      <td>5.1</td>\n",
       "      <td>3.5</td>\n",
       "      <td>1.4</td>\n",
       "      <td>0.2</td>\n",
       "      <td>0</td>\n",
       "    </tr>\n",
       "    <tr>\n",
       "      <th>1</th>\n",
       "      <td>2</td>\n",
       "      <td>4.9</td>\n",
       "      <td>3.0</td>\n",
       "      <td>1.4</td>\n",
       "      <td>0.2</td>\n",
       "      <td>0</td>\n",
       "    </tr>\n",
       "    <tr>\n",
       "      <th>2</th>\n",
       "      <td>3</td>\n",
       "      <td>4.7</td>\n",
       "      <td>3.2</td>\n",
       "      <td>1.3</td>\n",
       "      <td>0.2</td>\n",
       "      <td>0</td>\n",
       "    </tr>\n",
       "    <tr>\n",
       "      <th>3</th>\n",
       "      <td>4</td>\n",
       "      <td>4.6</td>\n",
       "      <td>3.1</td>\n",
       "      <td>1.5</td>\n",
       "      <td>0.2</td>\n",
       "      <td>0</td>\n",
       "    </tr>\n",
       "    <tr>\n",
       "      <th>4</th>\n",
       "      <td>5</td>\n",
       "      <td>5.0</td>\n",
       "      <td>3.6</td>\n",
       "      <td>1.4</td>\n",
       "      <td>0.2</td>\n",
       "      <td>0</td>\n",
       "    </tr>\n",
       "  </tbody>\n",
       "</table>\n",
       "</div>"
      ],
      "text/plain": [
       "   Id  SepalLengthCm  SepalWidthCm  PetalLengthCm  PetalWidthCm  Species\n",
       "0   1            5.1           3.5            1.4           0.2        0\n",
       "1   2            4.9           3.0            1.4           0.2        0\n",
       "2   3            4.7           3.2            1.3           0.2        0\n",
       "3   4            4.6           3.1            1.5           0.2        0\n",
       "4   5            5.0           3.6            1.4           0.2        0"
      ]
     },
     "execution_count": 6,
     "metadata": {},
     "output_type": "execute_result"
    }
   ],
   "source": [
    "for i in range(len(df)):\n",
    "    if df.at[i,\"Species\"]=='Iris-setosa':\n",
    "        df.at[i,\"Species\"]=0\n",
    "    elif df.at[i,\"Species\"]=='Iris-versicolor':\n",
    "        df.at[i,\"Species\"]=1\n",
    "    else:\n",
    "        df.at[i,\"Species\"]=2\n",
    "df[\"Species\"]=df[\"Species\"].astype(\"int\")\n",
    "df.head()"
   ]
  },
  {
   "cell_type": "code",
   "execution_count": 7,
   "id": "d8534a78",
   "metadata": {},
   "outputs": [
    {
     "name": "stdout",
     "output_type": "stream",
     "text": [
      "<class 'pandas.core.frame.DataFrame'>\n",
      "RangeIndex: 150 entries, 0 to 149\n",
      "Data columns (total 6 columns):\n",
      " #   Column         Non-Null Count  Dtype  \n",
      "---  ------         --------------  -----  \n",
      " 0   Id             150 non-null    int64  \n",
      " 1   SepalLengthCm  150 non-null    float64\n",
      " 2   SepalWidthCm   150 non-null    float64\n",
      " 3   PetalLengthCm  150 non-null    float64\n",
      " 4   PetalWidthCm   150 non-null    float64\n",
      " 5   Species        150 non-null    int32  \n",
      "dtypes: float64(4), int32(1), int64(1)\n",
      "memory usage: 6.6 KB\n"
     ]
    }
   ],
   "source": [
    "df.info()"
   ]
  },
  {
   "cell_type": "code",
   "execution_count": 9,
   "id": "88bbd953",
   "metadata": {},
   "outputs": [],
   "source": [
    "X,y=np.array(df.iloc[:,:4]),np.array(df.iloc[:,-1])"
   ]
  },
  {
   "cell_type": "code",
   "execution_count": 20,
   "id": "4c6b1080",
   "metadata": {},
   "outputs": [],
   "source": [
    "from sklearn.model_selection import train_test_split\n",
    "xtr,xte,ytr,yte=train_test_split(X,y,test_size=0.33,random_state=42)\n",
    "xtrain=torch.tensor(xtr,dtype=torch.float)\n",
    "xtest=torch.tensor(xte,dtype=torch.float)\n",
    "ytrain=torch.tensor(ytr,dtype=torch.int64)\n",
    "ytest=torch.tensor(yte,dtype=torch.int64)"
   ]
  },
  {
   "cell_type": "code",
   "execution_count": 35,
   "id": "fbf08736",
   "metadata": {},
   "outputs": [],
   "source": [
    "class Model(nn.Module):\n",
    "    def __init__(self):\n",
    "        super().__init__()\n",
    "        self.fc1=nn.Linear(4,8)\n",
    "        self.fc2=nn.Linear(8,6)\n",
    "        self.fc3=nn.Linear(6,3)\n",
    "    def forward(self,x):\n",
    "        x=f.relu(self.fc1(x))\n",
    "        x=f.relu(self.fc2(x))\n",
    "        return self.fc3(x)\n",
    "model=Model()\n",
    "criterion=nn.CrossEntropyLoss()\n",
    "optimizer=torch.optim.Adam(model.parameters(),lr=0.001)"
   ]
  },
  {
   "cell_type": "code",
   "execution_count": 36,
   "id": "a9e7fa13",
   "metadata": {},
   "outputs": [
    {
     "name": "stdout",
     "output_type": "stream",
     "text": [
      "- Loss at epoch 0 is 1.5333019495010376\n",
      "- Loss at epoch 5 is 1.2546541690826416\n",
      "- Loss at epoch 10 is 1.0501002073287964\n",
      "- Loss at epoch 15 is 0.9678202271461487\n",
      "- Loss at epoch 20 is 0.980480968952179\n",
      "- Loss at epoch 25 is 0.9772121906280518\n",
      "- Loss at epoch 30 is 0.9501160383224487\n",
      "- Loss at epoch 35 is 0.9379176497459412\n",
      "- Loss at epoch 40 is 0.9361552596092224\n",
      "- Loss at epoch 45 is 0.9309572577476501\n",
      "- Loss at epoch 50 is 0.9246536493301392\n",
      "- Loss at epoch 55 is 0.9203709363937378\n",
      "- Loss at epoch 60 is 0.915442943572998\n",
      "- Loss at epoch 65 is 0.9092294573783875\n",
      "- Loss at epoch 70 is 0.902907133102417\n",
      "- Loss at epoch 75 is 0.8958322405815125\n",
      "- Loss at epoch 80 is 0.8872765302658081\n",
      "- Loss at epoch 85 is 0.8764732480049133\n",
      "- Loss at epoch 90 is 0.8592381477355957\n",
      "- Loss at epoch 95 is 0.8279968500137329\n",
      "- Loss at epoch 100 is 0.8124992251396179\n",
      "- Loss at epoch 105 is 0.7918986678123474\n",
      "- Loss at epoch 110 is 0.7729904055595398\n",
      "- Loss at epoch 115 is 0.7544183135032654\n",
      "- Loss at epoch 120 is 0.7365512251853943\n",
      "- Loss at epoch 125 is 0.7176123261451721\n",
      "- Loss at epoch 130 is 0.6997506022453308\n",
      "- Loss at epoch 135 is 0.6816990375518799\n",
      "- Loss at epoch 140 is 0.6640094518661499\n",
      "- Loss at epoch 145 is 0.6468904614448547\n",
      "- Loss at epoch 150 is 0.6301193237304688\n",
      "- Loss at epoch 155 is 0.6139709949493408\n",
      "- Loss at epoch 160 is 0.5984549522399902\n",
      "- Loss at epoch 165 is 0.5835279226303101\n",
      "- Loss at epoch 170 is 0.569241464138031\n",
      "- Loss at epoch 175 is 0.5555610060691833\n",
      "- Loss at epoch 180 is 0.5424546599388123\n",
      "- Loss at epoch 185 is 0.5298914313316345\n",
      "- Loss at epoch 190 is 0.5178323984146118\n",
      "- Loss at epoch 195 is 0.5062407851219177\n",
      "- Loss at epoch 200 is 0.49509063363075256\n",
      "- Loss at epoch 205 is 0.4843404293060303\n",
      "- Loss at epoch 210 is 0.47397303581237793\n",
      "- Loss at epoch 215 is 0.463962584733963\n",
      "- Loss at epoch 220 is 0.45428478717803955\n",
      "- Loss at epoch 225 is 0.44493699073791504\n",
      "- Loss at epoch 230 is 0.4358859360218048\n",
      "- Loss at epoch 235 is 0.42711734771728516\n",
      "- Loss at epoch 240 is 0.4186180830001831\n",
      "- Loss at epoch 245 is 0.4103832542896271\n"
     ]
    }
   ],
   "source": [
    "epoch=250\n",
    "for i in range(epoch):\n",
    "    ypred=model.forward(xtrain)\n",
    "    optimizer.zero_grad()\n",
    "    loss=criterion(ypred,ytrain)\n",
    "    loss.backward()\n",
    "    optimizer.step()\n",
    "    if i%5==0:\n",
    "        print(\"- Loss at epoch {} is {}\".format(i,loss))"
   ]
  },
  {
   "cell_type": "code",
   "execution_count": 37,
   "id": "9ad13945",
   "metadata": {},
   "outputs": [
    {
     "data": {
      "text/plain": [
       "array([[19,  0,  0],\n",
       "       [ 0, 15,  0],\n",
       "       [ 0,  0, 16]], dtype=int64)"
      ]
     },
     "execution_count": 37,
     "metadata": {},
     "output_type": "execute_result"
    }
   ],
   "source": [
    "#Testing\n",
    "from sklearn.metrics import confusion_matrix,classification_report\n",
    "ypred=model.forward(xtest)\n",
    "ypred=torch.argmax(ypred,1)\n",
    "confusion_matrix(ypred,ytest)"
   ]
  },
  {
   "cell_type": "code",
   "execution_count": 38,
   "id": "96c4efa7",
   "metadata": {},
   "outputs": [
    {
     "name": "stdout",
     "output_type": "stream",
     "text": [
      "              precision    recall  f1-score   support\n",
      "\n",
      "           0       1.00      1.00      1.00        19\n",
      "           1       1.00      1.00      1.00        15\n",
      "           2       1.00      1.00      1.00        16\n",
      "\n",
      "    accuracy                           1.00        50\n",
      "   macro avg       1.00      1.00      1.00        50\n",
      "weighted avg       1.00      1.00      1.00        50\n",
      "\n"
     ]
    }
   ],
   "source": [
    "from sklearn.metrics import classification_report\n",
    "print(classification_report(ypred,ytest))"
   ]
  },
  {
   "cell_type": "code",
   "execution_count": null,
   "id": "b5ec6604",
   "metadata": {},
   "outputs": [],
   "source": []
  }
 ],
 "metadata": {
  "kernelspec": {
   "display_name": "Python 3 (ipykernel)",
   "language": "python",
   "name": "python3"
  },
  "language_info": {
   "codemirror_mode": {
    "name": "ipython",
    "version": 3
   },
   "file_extension": ".py",
   "mimetype": "text/x-python",
   "name": "python",
   "nbconvert_exporter": "python",
   "pygments_lexer": "ipython3",
   "version": "3.9.12"
  }
 },
 "nbformat": 4,
 "nbformat_minor": 5
}
