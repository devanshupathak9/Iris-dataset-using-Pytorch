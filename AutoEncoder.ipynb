{
 "cells": [
  {
   "cell_type": "code",
   "execution_count": 1,
   "id": "0759a340",
   "metadata": {},
   "outputs": [],
   "source": [
    "import torch\n",
    "import torch.nn as nn\n",
    "import torch.nn.functional as f\n",
    "import torch.optim as optim\n",
    "from torch.utils.data import DataLoader, TensorDataset\n",
    "import random\n",
    "import numpy as np\n",
    "import pandas as pd\n",
    "import matplotlib.pyplot as plt\n",
    "from sklearn.model_selection import train_test_split"
   ]
  },
  {
   "cell_type": "code",
   "execution_count": 2,
   "id": "d3c58895",
   "metadata": {},
   "outputs": [
    {
     "name": "stdout",
     "output_type": "stream",
     "text": [
      "{'Iris-setosa': 0, 'Iris-versicolor': 1, 'Iris-virginica': 2}\n"
     ]
    },
    {
     "data": {
      "text/html": [
       "<div>\n",
       "<style scoped>\n",
       "    .dataframe tbody tr th:only-of-type {\n",
       "        vertical-align: middle;\n",
       "    }\n",
       "\n",
       "    .dataframe tbody tr th {\n",
       "        vertical-align: top;\n",
       "    }\n",
       "\n",
       "    .dataframe thead th {\n",
       "        text-align: right;\n",
       "    }\n",
       "</style>\n",
       "<table border=\"1\" class=\"dataframe\">\n",
       "  <thead>\n",
       "    <tr style=\"text-align: right;\">\n",
       "      <th></th>\n",
       "      <th>SepalLengthCm</th>\n",
       "      <th>SepalWidthCm</th>\n",
       "      <th>PetalLengthCm</th>\n",
       "      <th>PetalWidthCm</th>\n",
       "      <th>Species</th>\n",
       "    </tr>\n",
       "  </thead>\n",
       "  <tbody>\n",
       "    <tr>\n",
       "      <th>0</th>\n",
       "      <td>5.1</td>\n",
       "      <td>3.5</td>\n",
       "      <td>1.4</td>\n",
       "      <td>0.2</td>\n",
       "      <td>0</td>\n",
       "    </tr>\n",
       "    <tr>\n",
       "      <th>1</th>\n",
       "      <td>4.9</td>\n",
       "      <td>3.0</td>\n",
       "      <td>1.4</td>\n",
       "      <td>0.2</td>\n",
       "      <td>0</td>\n",
       "    </tr>\n",
       "    <tr>\n",
       "      <th>2</th>\n",
       "      <td>4.7</td>\n",
       "      <td>3.2</td>\n",
       "      <td>1.3</td>\n",
       "      <td>0.2</td>\n",
       "      <td>0</td>\n",
       "    </tr>\n",
       "    <tr>\n",
       "      <th>3</th>\n",
       "      <td>4.6</td>\n",
       "      <td>3.1</td>\n",
       "      <td>1.5</td>\n",
       "      <td>0.2</td>\n",
       "      <td>0</td>\n",
       "    </tr>\n",
       "    <tr>\n",
       "      <th>4</th>\n",
       "      <td>5.0</td>\n",
       "      <td>3.6</td>\n",
       "      <td>1.4</td>\n",
       "      <td>0.2</td>\n",
       "      <td>0</td>\n",
       "    </tr>\n",
       "  </tbody>\n",
       "</table>\n",
       "</div>"
      ],
      "text/plain": [
       "   SepalLengthCm  SepalWidthCm  PetalLengthCm  PetalWidthCm  Species\n",
       "0            5.1           3.5            1.4           0.2        0\n",
       "1            4.9           3.0            1.4           0.2        0\n",
       "2            4.7           3.2            1.3           0.2        0\n",
       "3            4.6           3.1            1.5           0.2        0\n",
       "4            5.0           3.6            1.4           0.2        0"
      ]
     },
     "execution_count": 2,
     "metadata": {},
     "output_type": "execute_result"
    }
   ],
   "source": [
    "df=pd.read_csv('Iris.csv')\n",
    "df=df.drop(columns={'Id'})\n",
    "labels=list(df['Species'].unique())\n",
    "Dict=dict(zip(labels,range(len(labels))))\n",
    "df['Species']=df['Species'].map(Dict)\n",
    "df['Species']=df['Species'].astype('int')\n",
    "print(Dict)\n",
    "df.head()"
   ]
  },
  {
   "cell_type": "code",
   "execution_count": 3,
   "id": "51ee8a2a",
   "metadata": {},
   "outputs": [],
   "source": [
    "X,y=np.array(df.iloc[:,:-1]),np.array(df.iloc[:,-1])\n",
    "xtrain,xtest,ytrain,ytest=train_test_split(X,y,test_size=0.18,shuffle=543)\n",
    "xtrain,xtest=torch.tensor(xtrain,dtype=torch.float32),torch.tensor(xtest,dtype=torch.float32)\n",
    "ytrain,ytest=torch.tensor(ytrain,dtype=torch.int64),torch.tensor(ytest,dtype=torch.int64)"
   ]
  },
  {
   "cell_type": "code",
   "execution_count": 4,
   "id": "924287c9",
   "metadata": {},
   "outputs": [],
   "source": [
    "dataset=TensorDataset(xtrain,ytrain)\n",
    "dataloader=DataLoader(dataset,batch_size=8,shuffle=True)"
   ]
  },
  {
   "cell_type": "code",
   "execution_count": 15,
   "id": "3d0864cf",
   "metadata": {},
   "outputs": [],
   "source": [
    "import torch\n",
    "import torch.nn as nn\n",
    "class AutoEncoder(nn.Module):\n",
    "    def __init__(self,input_dim=4,encoding_dim=2):\n",
    "        super().__init__()\n",
    "        self.encoder=nn.Sequential(nn.Linear(input_dim,2*input_dim),nn.ReLU(),\n",
    "                                   nn.Linear(2*input_dim,input_dim),nn.ReLU(),\n",
    "                                   nn.Linear(input_dim,encoding_dim),nn.ReLU())\n",
    "        self.decoder=nn.Sequential(nn.Linear(encoding_dim,input_dim),nn.ReLU(),\n",
    "                                   nn.Linear(input_dim,2*input_dim),nn.ReLU(),\n",
    "                                   nn.Linear(2*input_dim,input_dim))\n",
    "    def forward(self,x):\n",
    "        x=self.encoder(x)\n",
    "        x=self.decoder(x)\n",
    "        return x\n",
    "    def encode(self,x):\n",
    "        x=self.encoder(x)\n",
    "        return x\n",
    "Model=AutoEncoder()\n",
    "Lossfunc=nn.MSELoss()\n",
    "optimizer=optim.Adam(Model.parameters(),lr=0.0001)"
   ]
  },
  {
   "cell_type": "code",
   "execution_count": 17,
   "id": "2ce812ad",
   "metadata": {
    "scrolled": true
   },
   "outputs": [
    {
     "name": "stdout",
     "output_type": "stream",
     "text": [
      "0:Total_Loss at Epoch 0 is:7.26492\n",
      "2:Total_Loss at Epoch 2 is:7.22547\n",
      "4:Total_Loss at Epoch 4 is:7.33439\n",
      "6:Total_Loss at Epoch 6 is:7.06247\n",
      "8:Total_Loss at Epoch 8 is:7.40291\n",
      "10:Total_Loss at Epoch 10 is:7.18277\n",
      "12:Total_Loss at Epoch 12 is:7.25817\n",
      "14:Total_Loss at Epoch 14 is:7.16624\n",
      "16:Total_Loss at Epoch 16 is:7.10671\n",
      "18:Total_Loss at Epoch 18 is:7.19445\n",
      "20:Total_Loss at Epoch 20 is:7.05419\n",
      "22:Total_Loss at Epoch 22 is:7.07866\n",
      "24:Total_Loss at Epoch 24 is:7.15235\n",
      "26:Total_Loss at Epoch 26 is:7.0959\n",
      "28:Total_Loss at Epoch 28 is:7.21057\n",
      "30:Total_Loss at Epoch 30 is:7.35688\n",
      "32:Total_Loss at Epoch 32 is:6.93425\n",
      "34:Total_Loss at Epoch 34 is:7.02736\n",
      "36:Total_Loss at Epoch 36 is:7.11506\n",
      "38:Total_Loss at Epoch 38 is:7.03984\n",
      "40:Total_Loss at Epoch 40 is:7.19114\n",
      "42:Total_Loss at Epoch 42 is:7.04195\n",
      "44:Total_Loss at Epoch 44 is:7.09604\n",
      "46:Total_Loss at Epoch 46 is:7.05553\n",
      "48:Total_Loss at Epoch 48 is:6.89265\n",
      "50:Total_Loss at Epoch 50 is:7.21017\n",
      "52:Total_Loss at Epoch 52 is:7.57096\n",
      "54:Total_Loss at Epoch 54 is:7.02413\n",
      "56:Total_Loss at Epoch 56 is:6.95766\n",
      "58:Total_Loss at Epoch 58 is:7.13615\n",
      "60:Total_Loss at Epoch 60 is:7.21677\n",
      "62:Total_Loss at Epoch 62 is:6.7885\n",
      "64:Total_Loss at Epoch 64 is:7.18178\n",
      "66:Total_Loss at Epoch 66 is:6.75234\n",
      "68:Total_Loss at Epoch 68 is:6.74736\n",
      "70:Total_Loss at Epoch 70 is:6.86818\n",
      "72:Total_Loss at Epoch 72 is:6.75051\n",
      "74:Total_Loss at Epoch 74 is:6.82155\n",
      "76:Total_Loss at Epoch 76 is:6.90291\n",
      "78:Total_Loss at Epoch 78 is:7.38351\n",
      "80:Total_Loss at Epoch 80 is:6.81945\n",
      "82:Total_Loss at Epoch 82 is:6.95124\n",
      "84:Total_Loss at Epoch 84 is:6.93365\n",
      "86:Total_Loss at Epoch 86 is:7.0194\n",
      "88:Total_Loss at Epoch 88 is:6.93568\n",
      "90:Total_Loss at Epoch 90 is:6.89098\n",
      "92:Total_Loss at Epoch 92 is:6.89648\n",
      "94:Total_Loss at Epoch 94 is:7.15306\n",
      "96:Total_Loss at Epoch 96 is:6.85023\n",
      "98:Total_Loss at Epoch 98 is:6.8787\n",
      "100:Total_Loss at Epoch 100 is:6.92497\n",
      "102:Total_Loss at Epoch 102 is:6.8024\n",
      "104:Total_Loss at Epoch 104 is:6.70179\n",
      "106:Total_Loss at Epoch 106 is:6.87226\n",
      "108:Total_Loss at Epoch 108 is:6.95255\n",
      "110:Total_Loss at Epoch 110 is:6.55542\n",
      "112:Total_Loss at Epoch 112 is:6.5879\n",
      "114:Total_Loss at Epoch 114 is:6.94262\n",
      "116:Total_Loss at Epoch 116 is:6.82402\n",
      "118:Total_Loss at Epoch 118 is:6.69089\n",
      "120:Total_Loss at Epoch 120 is:6.95947\n",
      "122:Total_Loss at Epoch 122 is:6.58231\n",
      "124:Total_Loss at Epoch 124 is:6.83338\n",
      "126:Total_Loss at Epoch 126 is:6.79505\n",
      "128:Total_Loss at Epoch 128 is:6.65051\n",
      "130:Total_Loss at Epoch 130 is:6.68983\n",
      "132:Total_Loss at Epoch 132 is:6.7488\n",
      "134:Total_Loss at Epoch 134 is:6.95332\n",
      "136:Total_Loss at Epoch 136 is:6.92742\n",
      "138:Total_Loss at Epoch 138 is:6.58348\n",
      "140:Total_Loss at Epoch 140 is:6.38344\n",
      "142:Total_Loss at Epoch 142 is:6.41616\n",
      "144:Total_Loss at Epoch 144 is:6.52912\n",
      "146:Total_Loss at Epoch 146 is:6.35676\n",
      "148:Total_Loss at Epoch 148 is:6.68343\n",
      "150:Total_Loss at Epoch 150 is:6.27744\n",
      "152:Total_Loss at Epoch 152 is:6.4977\n",
      "154:Total_Loss at Epoch 154 is:6.34105\n",
      "156:Total_Loss at Epoch 156 is:6.51466\n",
      "158:Total_Loss at Epoch 158 is:6.55728\n",
      "160:Total_Loss at Epoch 160 is:6.21986\n",
      "162:Total_Loss at Epoch 162 is:6.3085\n",
      "164:Total_Loss at Epoch 164 is:6.57341\n",
      "166:Total_Loss at Epoch 166 is:6.34722\n",
      "168:Total_Loss at Epoch 168 is:6.29953\n",
      "170:Total_Loss at Epoch 170 is:6.30897\n",
      "172:Total_Loss at Epoch 172 is:6.24959\n",
      "174:Total_Loss at Epoch 174 is:6.23549\n",
      "176:Total_Loss at Epoch 176 is:6.25923\n",
      "178:Total_Loss at Epoch 178 is:6.22629\n",
      "180:Total_Loss at Epoch 180 is:6.22009\n",
      "182:Total_Loss at Epoch 182 is:6.31685\n",
      "184:Total_Loss at Epoch 184 is:6.41747\n",
      "186:Total_Loss at Epoch 186 is:6.40837\n",
      "188:Total_Loss at Epoch 188 is:6.19794\n",
      "190:Total_Loss at Epoch 190 is:5.98922\n",
      "192:Total_Loss at Epoch 192 is:6.08763\n",
      "194:Total_Loss at Epoch 194 is:6.03511\n",
      "196:Total_Loss at Epoch 196 is:6.25501\n",
      "198:Total_Loss at Epoch 198 is:6.14643\n"
     ]
    }
   ],
   "source": [
    "def train(epochs):\n",
    "    for epoch in range(epochs):\n",
    "        total_loss=0\n",
    "        for i,(data,y) in enumerate(dataloader):\n",
    "            res=Model.forward(data)\n",
    "            loss=Lossfunc(res,data)\n",
    "            optimizer.zero_grad()\n",
    "            loss.backward()\n",
    "            optimizer.step()\n",
    "            total_loss+=loss.item()\n",
    "        if epoch%2==0:\n",
    "            print(f\"{epoch}:Total_Loss at Epoch {epoch} is:{round(total_loss,5)}\")\n",
    "train(200)"
   ]
  },
  {
   "cell_type": "code",
   "execution_count": 22,
   "id": "b45efa54",
   "metadata": {},
   "outputs": [],
   "source": [
    "def plot(data,keys):\n",
    "    random_color = (random.random(), random.random(), random.random())\n",
    "    x,y=data[:,0],data[:,1]\n",
    "    plt.scatter(y,x,c=random_color,label=keys)\n",
    "    plt.xlabel('feature0')\n",
    "    plt.ylabel('feature1')\n",
    "    plt.title('Visualizing Encoded Data')\n",
    "    plt.legend()"
   ]
  },
  {
   "cell_type": "code",
   "execution_count": 25,
   "id": "81752186",
   "metadata": {},
   "outputs": [
    {
     "name": "stderr",
     "output_type": "stream",
     "text": [
      "*c* argument looks like a single numeric RGB or RGBA sequence, which should be avoided as value-mapping will have precedence in case its length matches with *x* & *y*.  Please use the *color* keyword-argument or provide a 2D array with a single row if you intend to specify the same RGB or RGBA value for all points.\n",
      "*c* argument looks like a single numeric RGB or RGBA sequence, which should be avoided as value-mapping will have precedence in case its length matches with *x* & *y*.  Please use the *color* keyword-argument or provide a 2D array with a single row if you intend to specify the same RGB or RGBA value for all points.\n",
      "*c* argument looks like a single numeric RGB or RGBA sequence, which should be avoided as value-mapping will have precedence in case its length matches with *x* & *y*.  Please use the *color* keyword-argument or provide a 2D array with a single row if you intend to specify the same RGB or RGBA value for all points.\n"
     ]
    },
    {
     "data": {
      "image/png": "[encoded data removed]",
      "text/plain": [
       "<Figure size 432x288 with 1 Axes>"
      ]
     },
     "metadata": {
      "needs_background": "light"
     },
     "output_type": "display_data"
    }
   ],
   "source": [
    "encoded=Model.encode(xtest).detach()\n",
    "for keys in Dict:\n",
    "    plot(encoded[ytest==Dict[keys]],keys)"
   ]
  },
  {
   "cell_type": "code",
   "execution_count": 32,
   "id": "6dfb0cdf",
   "metadata": {},
   "outputs": [],
   "source": [
    "from sklearn.cluster import KMeans\n",
    "from sklearn.metrics import confusion_matrix\n",
    "kmeans = KMeans(n_clusters=3,init='k-means++',n_init=8,max_iter=200,random_state=200)\n",
    "data=Model.encode(xtrain).detach()\n",
    "kmeans.fit(data)\n",
    "labels=kmeans.labels_\n",
    "cluster_centers = kmeans.cluster_centers_"
   ]
  },
  {
   "cell_type": "code",
   "execution_count": 37,
   "id": "ea5d5a6e",
   "metadata": {},
   "outputs": [
    {
     "data": {
      "image/png": "[encoded data removed]",
      "text/plain": [
       "<Figure size 432x288 with 1 Axes>"
      ]
     },
     "metadata": {
      "needs_background": "light"
     },
     "output_type": "display_data"
    }
   ],
   "source": [
    "cluster_centers = kmeans.cluster_centers_\n",
    "plt.scatter(data[:, 0], data[:, 1], c=labels, cmap='viridis')\n",
    "plt.scatter(cluster_centers[:, 0], cluster_centers[:, 1,], marker='.', c='red', s=200, label='Cluster Centers')\n",
    "plt.legend()\n",
    "plt.title('K-Means Clustering')\n",
    "plt.show()"
   ]
  }
 ],
 "metadata": {
  "kernelspec": {
   "display_name": "Python 3 (ipykernel)",
   "language": "python",
   "name": "python3"
  },
  "language_info": {
   "codemirror_mode": {
    "name": "ipython",
    "version": 3
   },
   "file_extension": ".py",
   "mimetype": "text/x-python",
   "name": "python",
   "nbconvert_exporter": "python",
   "pygments_lexer": "ipython3",
   "version": "3.9.12"
  }
 },
 "nbformat": 4,
 "nbformat_minor": 5
}
