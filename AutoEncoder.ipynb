{
 "cells": [
  {
   "cell_type": "code",
   "execution_count": 43,
   "id": "50d540b2",
   "metadata": {},
   "outputs": [],
   "source": [
    "import torch\n",
    "import torch.nn as nn\n",
    "import torch.nn.functional as f\n",
    "import torch.optim as optim\n",
    "import numpy as np\n",
    "import pandas as pd\n",
    "from torch.utils.data import DataLoader, TensorDataset\n",
    "import matplotlib.pyplot as plt"
   ]
  },
  {
   "cell_type": "code",
   "execution_count": 29,
   "id": "2a0878a7",
   "metadata": {},
   "outputs": [],
   "source": [
    "df=pd.read_csv('Iris.csv')\n",
    "df=df.drop(columns={\"Id\"})\n",
    "label=df['Species'].unique()\n",
    "target=dict(zip(label,range(len(label))))\n",
    "df['Species']=df['Species'].map(target)\n",
    "df['Species']=df['Species'].astype(int)\n",
    "X,Y=np.array(df.iloc[:,:-1]),np.array(df.iloc[:,-1])"
   ]
  },
  {
   "cell_type": "code",
   "execution_count": 95,
   "id": "aca900be",
   "metadata": {},
   "outputs": [],
   "source": [
    "from sklearn.model_selection import train_test_split\n",
    "xtrain,xtest,ytrain,ytest=train_test_split(X,Y,test_size=0.15,random_state=456)\n",
    "xtrain,ytrain=torch.tensor(xtrain,dtype=torch.float32),torch.tensor(ytrain,dtype=torch.int64)\n",
    "xtest,ytest=torch.tensor(xtest,dtype=torch.float32),torch.tensor(ytest,dtype=torch.int64)\n",
    "dataset=TensorDataset(xtrain,ytrain)\n",
    "dataloader=DataLoader(dataset,batch_size=8,shuffle=True)"
   ]
  },
  {
   "cell_type": "code",
   "execution_count": 45,
   "id": "d1036803",
   "metadata": {},
   "outputs": [],
   "source": [
    "class AutoEncoder(nn.Module):\n",
    "    def __init__(Self,inp_dim=4,encoding_dim=2):\n",
    "        super().__init__()\n",
    "        Self.encode=nn.Sequential(nn.Linear(inp_dim,2*inp_dim),nn.ReLU(),\n",
    "                                  nn.Linear(2*inp_dim,inp_dim),nn.ReLU(),\n",
    "                                 nn.Linear(inp_dim,encoding_dim))\n",
    "        Self.decode=nn.Sequential(nn.Linear(encoding_dim,inp_dim),nn.ReLU(),\n",
    "                                  nn.Linear(inp_dim,2*inp_dim),nn.ReLU(),\n",
    "                                 nn.Linear(2*inp_dim,inp_dim))\n",
    "    def forward(Self,x):\n",
    "        x=Self.decode(Self.encode(x))\n",
    "        return x\n",
    "    def encoder(Self,x):\n",
    "        x=Self.encode(x)\n",
    "        return x        \n",
    "Model=AutoEncoder()\n",
    "loss_function=nn.MSELoss()\n",
    "optimizer=optim.Adam(Model.parameters(),lr=0.001)"
   ]
  },
  {
   "cell_type": "code",
   "execution_count": 55,
   "id": "05e67ddf",
   "metadata": {
    "scrolled": true
   },
   "outputs": [
    {
     "name": "stdout",
     "output_type": "stream",
     "text": [
      "0:Total_Loss at Epoch 0 is:198.4821\n",
      "1:Total_Loss at Epoch 1 is:166.4811\n",
      "2:Total_Loss at Epoch 2 is:122.6891\n",
      "3:Total_Loss at Epoch 3 is:73.0125\n",
      "4:Total_Loss at Epoch 4 is:31.0216\n",
      "5:Total_Loss at Epoch 5 is:13.386\n",
      "6:Total_Loss at Epoch 6 is:11.3173\n",
      "7:Total_Loss at Epoch 7 is:10.6255\n",
      "8:Total_Loss at Epoch 8 is:10.4756\n",
      "9:Total_Loss at Epoch 9 is:10.2232\n",
      "10:Total_Loss at Epoch 10 is:10.2192\n",
      "11:Total_Loss at Epoch 11 is:10.1305\n",
      "12:Total_Loss at Epoch 12 is:10.0765\n",
      "13:Total_Loss at Epoch 13 is:10.0332\n",
      "14:Total_Loss at Epoch 14 is:9.9587\n",
      "15:Total_Loss at Epoch 15 is:9.8558\n",
      "16:Total_Loss at Epoch 16 is:9.8331\n",
      "17:Total_Loss at Epoch 17 is:9.885\n",
      "18:Total_Loss at Epoch 18 is:9.7663\n",
      "19:Total_Loss at Epoch 19 is:9.7184\n",
      "20:Total_Loss at Epoch 20 is:9.6786\n",
      "21:Total_Loss at Epoch 21 is:9.5772\n",
      "22:Total_Loss at Epoch 22 is:9.6128\n",
      "23:Total_Loss at Epoch 23 is:9.5551\n",
      "24:Total_Loss at Epoch 24 is:9.4914\n",
      "25:Total_Loss at Epoch 25 is:9.4201\n",
      "26:Total_Loss at Epoch 26 is:9.3511\n",
      "27:Total_Loss at Epoch 27 is:9.4228\n",
      "28:Total_Loss at Epoch 28 is:9.249\n",
      "29:Total_Loss at Epoch 29 is:9.1998\n",
      "30:Total_Loss at Epoch 30 is:9.2029\n",
      "31:Total_Loss at Epoch 31 is:9.129\n",
      "32:Total_Loss at Epoch 32 is:9.115\n",
      "33:Total_Loss at Epoch 33 is:9.0555\n",
      "34:Total_Loss at Epoch 34 is:8.9624\n",
      "35:Total_Loss at Epoch 35 is:8.9393\n",
      "36:Total_Loss at Epoch 36 is:8.9369\n",
      "37:Total_Loss at Epoch 37 is:8.9267\n",
      "38:Total_Loss at Epoch 38 is:8.8233\n",
      "39:Total_Loss at Epoch 39 is:8.8065\n",
      "40:Total_Loss at Epoch 40 is:8.7388\n",
      "41:Total_Loss at Epoch 41 is:8.7585\n",
      "42:Total_Loss at Epoch 42 is:8.6822\n",
      "43:Total_Loss at Epoch 43 is:8.6632\n",
      "44:Total_Loss at Epoch 44 is:8.6724\n",
      "45:Total_Loss at Epoch 45 is:8.6177\n",
      "46:Total_Loss at Epoch 46 is:8.5803\n",
      "47:Total_Loss at Epoch 47 is:8.5698\n",
      "48:Total_Loss at Epoch 48 is:8.5338\n",
      "49:Total_Loss at Epoch 49 is:8.5134\n",
      "50:Total_Loss at Epoch 50 is:8.4714\n",
      "51:Total_Loss at Epoch 51 is:8.5127\n",
      "52:Total_Loss at Epoch 52 is:8.3744\n",
      "53:Total_Loss at Epoch 53 is:8.3092\n",
      "54:Total_Loss at Epoch 54 is:8.1469\n",
      "55:Total_Loss at Epoch 55 is:7.9669\n",
      "56:Total_Loss at Epoch 56 is:7.8124\n",
      "57:Total_Loss at Epoch 57 is:7.4463\n",
      "58:Total_Loss at Epoch 58 is:7.1324\n",
      "59:Total_Loss at Epoch 59 is:6.764\n",
      "60:Total_Loss at Epoch 60 is:6.2686\n",
      "61:Total_Loss at Epoch 61 is:5.664\n",
      "62:Total_Loss at Epoch 62 is:4.9711\n",
      "63:Total_Loss at Epoch 63 is:4.1841\n",
      "64:Total_Loss at Epoch 64 is:3.3088\n",
      "65:Total_Loss at Epoch 65 is:2.5809\n",
      "66:Total_Loss at Epoch 66 is:1.878\n",
      "67:Total_Loss at Epoch 67 is:1.3983\n",
      "68:Total_Loss at Epoch 68 is:1.0616\n",
      "69:Total_Loss at Epoch 69 is:0.8704\n",
      "70:Total_Loss at Epoch 70 is:0.7455\n",
      "71:Total_Loss at Epoch 71 is:0.6695\n",
      "72:Total_Loss at Epoch 72 is:0.6269\n",
      "73:Total_Loss at Epoch 73 is:0.5935\n",
      "74:Total_Loss at Epoch 74 is:0.577\n",
      "75:Total_Loss at Epoch 75 is:0.5667\n",
      "76:Total_Loss at Epoch 76 is:0.5668\n",
      "77:Total_Loss at Epoch 77 is:0.5628\n",
      "78:Total_Loss at Epoch 78 is:0.5474\n",
      "79:Total_Loss at Epoch 79 is:0.5446\n",
      "80:Total_Loss at Epoch 80 is:0.547\n",
      "81:Total_Loss at Epoch 81 is:0.5484\n",
      "82:Total_Loss at Epoch 82 is:0.5426\n",
      "83:Total_Loss at Epoch 83 is:0.5404\n",
      "84:Total_Loss at Epoch 84 is:0.5409\n",
      "85:Total_Loss at Epoch 85 is:0.5362\n",
      "86:Total_Loss at Epoch 86 is:0.5441\n",
      "87:Total_Loss at Epoch 87 is:0.5393\n",
      "88:Total_Loss at Epoch 88 is:0.5388\n",
      "89:Total_Loss at Epoch 89 is:0.5441\n",
      "90:Total_Loss at Epoch 90 is:0.5453\n",
      "91:Total_Loss at Epoch 91 is:0.5384\n",
      "92:Total_Loss at Epoch 92 is:0.5378\n",
      "93:Total_Loss at Epoch 93 is:0.5345\n",
      "94:Total_Loss at Epoch 94 is:0.5395\n",
      "95:Total_Loss at Epoch 95 is:0.5366\n",
      "96:Total_Loss at Epoch 96 is:0.5357\n",
      "97:Total_Loss at Epoch 97 is:0.5353\n",
      "98:Total_Loss at Epoch 98 is:0.5321\n",
      "99:Total_Loss at Epoch 99 is:0.5369\n"
     ]
    }
   ],
   "source": [
    "def train(epochs):\n",
    "    for epoch in range(epochs):\n",
    "        total_loss=0\n",
    "        for i,(data,target) in enumerate(dataloader):\n",
    "            optimizer.zero_grad()\n",
    "            output=Model.forward(data)\n",
    "            loss=loss_function(output,data)\n",
    "            loss.backward()\n",
    "            optimizer.step()\n",
    "            total_loss+=loss.item()\n",
    "        print(f\"{epoch}:Total_Loss at Epoch {epoch} is:{round(total_loss,4)}\")\n",
    "train(100)"
   ]
  },
  {
   "cell_type": "code",
   "execution_count": 116,
   "id": "156aa2df",
   "metadata": {
    "scrolled": true
   },
   "outputs": [
    {
     "name": "stderr",
     "output_type": "stream",
     "text": [
      "*c* argument looks like a single numeric RGB or RGBA sequence, which should be avoided as value-mapping will have precedence in case its length matches with *x* & *y*.  Please use the *color* keyword-argument or provide a 2D array with a single row if you intend to specify the same RGB or RGBA value for all points.\n",
      "*c* argument looks like a single numeric RGB or RGBA sequence, which should be avoided as value-mapping will have precedence in case its length matches with *x* & *y*.  Please use the *color* keyword-argument or provide a 2D array with a single row if you intend to specify the same RGB or RGBA value for all points.\n",
      "*c* argument looks like a single numeric RGB or RGBA sequence, which should be avoided as value-mapping will have precedence in case its length matches with *x* & *y*.  Please use the *color* keyword-argument or provide a 2D array with a single row if you intend to specify the same RGB or RGBA value for all points.\n"
     ]
    },
    {
     "data": {
      "image/png": "[encoded data removed]",
      "text/plain": [
       "<Figure size 432x288 with 1 Axes>"
      ]
     },
     "metadata": {
      "needs_background": "light"
     },
     "output_type": "display_data"
    }
   ],
   "source": [
    "import random\n",
    "encoded=Model.encode(xtest).detach()\n",
    "def plot(data,keys):\n",
    "    random_color = (random.random(), random.random(), random.random())\n",
    "    x,y=data[:,0],data[:,1]\n",
    "    plt.scatter(x,y,c=random_color,label=keys)\n",
    "    plt.xlabel('X-Axis')\n",
    "    plt.ylabel('Y-Axis')\n",
    "    plt.title('Randomly Chosen Color in Matplotlib')\n",
    "    plt.legend()\n",
    "for keys in target:\n",
    "    plot(encoded[ytest==target[keys]],keys)"
   ]
  },
  {
   "cell_type": "code",
   "execution_count": null,
   "id": "8ce06352",
   "metadata": {},
   "outputs": [],
   "source": []
  },
  {
   "cell_type": "code",
   "execution_count": null,
   "id": "5414389e",
   "metadata": {},
   "outputs": [],
   "source": []
  }
 ],
 "metadata": {
  "kernelspec": {
   "display_name": "Python 3 (ipykernel)",
   "language": "python",
   "name": "python3"
  },
  "language_info": {
   "codemirror_mode": {
    "name": "ipython",
    "version": 3
   },
   "file_extension": ".py",
   "mimetype": "text/x-python",
   "name": "python",
   "nbconvert_exporter": "python",
   "pygments_lexer": "ipython3",
   "version": "3.9.12"
  }
 },
 "nbformat": 4,
 "nbformat_minor": 5
}
